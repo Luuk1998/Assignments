{
 "cells": [
  {
   "cell_type": "markdown",
   "metadata": {},
   "source": [
    "# Exam R\n",
    "Luuk van de Ven, u381901 & Wout van Iperen, u974489\n",
    "\n",
    "# Introduction\n",
    "\n",
    "The exam consists of 2 parts. In the first part, you have to run a regression, test if the assumptions of a linear regression model are met, and make 2 graphs.\n",
    "\n",
    "In the second part of the exam, you will have to make a map of Catholic and Protestant schools in the Netherlands.\n",
    "\n",
    "# Packages\n"
   ]
  },
  {
   "cell_type": "code",
   "execution_count": 146,
   "metadata": {},
   "outputs": [],
   "source": [
    "library(tidyverse)\n",
    "library(gvlma)"
   ]
  },
  {
   "cell_type": "markdown",
   "metadata": {},
   "source": [
    "# Assignment 1\n",
    "\n",
    "\n",
    "## Data\n",
    "\n",
    "The data are given:\n"
   ]
  },
  {
   "cell_type": "code",
   "execution_count": 147,
   "metadata": {},
   "outputs": [],
   "source": [
    "set.seed(123)\n",
    "df1 <- as.data.frame(matrix(runif(1*50, min = 1, max = 10), ncol = 1)) %>%\n",
    "    mutate(epsilon = rnorm(50, mean = 0, sd = 2)) %>%\n",
    "    mutate(response = 3 - 2* V1  + epsilon) %>%\n",
    "    mutate(group = ifelse(V1 <= 5, 1,2))"
   ]
  },
  {
   "cell_type": "markdown",
   "metadata": {},
   "source": [
    "## Asignment 1a\n",
    "\n",
    "The first assigment is to make boxplot using ggplot with group on the x-axis and V1 on the y-axis."
   ]
  },
  {
   "cell_type": "code",
   "execution_count": 148,
   "metadata": {},
   "outputs": [
    {
     "data": {},
     "metadata": {},
     "output_type": "display_data"
    },
    {
     "data": {
      "image/png": "[encoded data removed]",
      "text/plain": [
       "plot without title"
      ]
     },
     "metadata": {},
     "output_type": "display_data"
    }
   ],
   "source": [
    "ggplot(df1, aes(x = group, y = V1)) + geom_bar( stat = 'identity', position = 'dodge')"
   ]
  },
  {
   "cell_type": "markdown",
   "metadata": {},
   "source": [
    "## Assignment 1b\n",
    "\n",
    "Run a regression with response variable as a function of V1.\n",
    "Show the summary statistics of the regression.\n"
   ]
  },
  {
   "cell_type": "code",
   "execution_count": 149,
   "metadata": {},
   "outputs": [
    {
     "data": {
      "text/plain": [
       "\n",
       "Call:\n",
       "lm(formula = response ~ V1, data = df1)\n",
       "\n",
       "Residuals:\n",
       "   Min     1Q Median     3Q    Max \n",
       "-4.512 -1.116 -0.131  1.099  4.372 \n",
       "\n",
       "Coefficients:\n",
       "            Estimate Std. Error t value Pr(>|t|)    \n",
       "(Intercept)    2.630      0.635    4.14  0.00014 ***\n",
       "V1            -1.915      0.101  -18.88  < 2e-16 ***\n",
       "---\n",
       "Signif. codes:  0 '***' 0.001 '**' 0.01 '*' 0.05 '.' 0.1 ' ' 1\n",
       "\n",
       "Residual standard error: 2 on 48 degrees of freedom\n",
       "Multiple R-squared:  0.881,\tAdjusted R-squared:  0.879 \n",
       "F-statistic:  356 on 1 and 48 DF,  p-value: <2e-16\n"
      ]
     },
     "metadata": {},
     "output_type": "display_data"
    }
   ],
   "source": [
    "reg1 <- lm(response ~ V1,df1)\n",
    "summary(reg1)"
   ]
  },
  {
   "cell_type": "markdown",
   "metadata": {},
   "source": [
    "check if the assumptions of linear regression are met with the `gvlma()` function."
   ]
  },
  {
   "cell_type": "code",
   "execution_count": 150,
   "metadata": {},
   "outputs": [
    {
     "data": {
      "text/plain": [
       "\n",
       "Call:\n",
       "lm(formula = response ~ V1, data = df1)\n",
       "\n",
       "Coefficients:\n",
       "(Intercept)           V1  \n",
       "       2.63        -1.92  \n",
       "\n",
       "\n",
       "ASSESSMENT OF THE LINEAR MODEL ASSUMPTIONS\n",
       "USING THE GLOBAL TEST ON 4 DEGREES-OF-FREEDOM:\n",
       "Level of Significance =  0.05 \n",
       "\n",
       "Call:\n",
       " gvlma(x = reg1) \n",
       "\n",
       "                     Value p-value                Decision\n",
       "Global Stat        0.65432   0.957 Assumptions acceptable.\n",
       "Skewness           0.00240   0.961 Assumptions acceptable.\n",
       "Kurtosis           0.00720   0.932 Assumptions acceptable.\n",
       "Link Function      0.00585   0.939 Assumptions acceptable.\n",
       "Heteroscedasticity 0.63887   0.424 Assumptions acceptable."
      ]
     },
     "metadata": {},
     "output_type": "display_data"
    }
   ],
   "source": [
    "gvlma(reg1)"
   ]
  },
  {
   "cell_type": "markdown",
   "metadata": {},
   "source": [
    "## Assignment 1c\n",
    "\n",
    "Make a scatterplot with: \n",
    "* V1 on the x-axis and the response on the y-axis\n",
    "* Include the regression line in red with confidence interval \n",
    "* In a classic theme\n",
    "* The x-axis should be labeled \"Predictor\", the y-axis should be labeled (\"Response\")\n",
    "\n"
   ]
  },
  {
   "cell_type": "code",
   "execution_count": 151,
   "metadata": {},
   "outputs": [
    {
     "data": {},
     "metadata": {},
     "output_type": "display_data"
    },
    {
     "data": {
      "image/png": "[encoded data removed]",
      "text/plain": [
       "plot without title"
      ]
     },
     "metadata": {},
     "output_type": "display_data"
    }
   ],
   "source": [
    "ggplot(df1, aes(x = V1, y = response)) + geom_point() + theme_classic() + geom_smooth(method = \"lm\", colour = 'red') + ylab(\"Response\") + xlab(\"Predictor\")"
   ]
  },
  {
   "cell_type": "markdown",
   "metadata": {},
   "source": [
    "# Assigment 2\n",
    "\n",
    "# Packages"
   ]
  },
  {
   "cell_type": "code",
   "execution_count": 152,
   "metadata": {},
   "outputs": [],
   "source": [
    "library(thematicmaps)\n",
    "library(tidyverse)"
   ]
  },
  {
   "cell_type": "markdown",
   "metadata": {},
   "source": [
    "## Assignment 2a\n",
    "\n",
    "First you have to read in the file \"nld_municipal_map.csv\".\n",
    "Hint: Look at the notebook of week 6 about maps."
   ]
  },
  {
   "cell_type": "code",
   "execution_count": 153,
   "metadata": {},
   "outputs": [
    {
     "data": {
      "text/html": [
       "<table>\n",
       "<thead><tr><th scope=col>name</th><th scope=col>id</th><th scope=col>x</th><th scope=col>y</th><th scope=col>order</th><th scope=col>hole</th><th scope=col>piece</th><th scope=col>group</th></tr></thead>\n",
       "<tbody>\n",
       "\t<tr><td>Appingedam         </td><td>0                  </td><td>251.260.527.548.325</td><td>594.393.827.234.474</td><td>1                  </td><td>FALSE              </td><td>1                  </td><td>0.1                </td></tr>\n",
       "\t<tr><td>Appingedam         </td><td>0                  </td><td>251.427.775.868.901</td><td>594.486.747.111.725</td><td>2                  </td><td>FALSE              </td><td>1                  </td><td>0.1                </td></tr>\n",
       "\t<tr><td>Appingedam         </td><td>0                  </td><td>251.668.842.999.999</td><td>594646.77          </td><td>3                  </td><td>FALSE              </td><td>1                  </td><td>0.1                </td></tr>\n",
       "\t<tr><td>Appingedam         </td><td>0                  </td><td>251.713.521.000.002</td><td>594.770.885.000.002</td><td>4                  </td><td>FALSE              </td><td>1                  </td><td>0.1                </td></tr>\n",
       "\t<tr><td>Appingedam         </td><td>0                  </td><td>251.354.585.000.001</td><td>595.461.381.999.999</td><td>5                  </td><td>FALSE              </td><td>1                  </td><td>0.1                </td></tr>\n",
       "\t<tr><td>Appingedam         </td><td>0                  </td><td>251.310.272        </td><td>596.022.542        </td><td>6                  </td><td>FALSE              </td><td>1                  </td><td>0.1                </td></tr>\n",
       "</tbody>\n",
       "</table>\n"
      ],
      "text/latex": [
       "\\begin{tabular}{r|llllllll}\n",
       " name & id & x & y & order & hole & piece & group\\\\\n",
       "\\hline\n",
       "\t Appingedam          & 0                   & 251.260.527.548.325 & 594.393.827.234.474 & 1                   & FALSE               & 1                   & 0.1                \\\\\n",
       "\t Appingedam          & 0                   & 251.427.775.868.901 & 594.486.747.111.725 & 2                   & FALSE               & 1                   & 0.1                \\\\\n",
       "\t Appingedam          & 0                   & 251.668.842.999.999 & 594646.77           & 3                   & FALSE               & 1                   & 0.1                \\\\\n",
       "\t Appingedam          & 0                   & 251.713.521.000.002 & 594.770.885.000.002 & 4                   & FALSE               & 1                   & 0.1                \\\\\n",
       "\t Appingedam          & 0                   & 251.354.585.000.001 & 595.461.381.999.999 & 5                   & FALSE               & 1                   & 0.1                \\\\\n",
       "\t Appingedam          & 0                   & 251.310.272         & 596.022.542         & 6                   & FALSE               & 1                   & 0.1                \\\\\n",
       "\\end{tabular}\n"
      ],
      "text/markdown": [
       "\n",
       "name | id | x | y | order | hole | piece | group | \n",
       "|---|---|---|---|---|---|\n",
       "| Appingedam          | 0                   | 251.260.527.548.325 | 594.393.827.234.474 | 1                   | FALSE               | 1                   | 0.1                 | \n",
       "| Appingedam          | 0                   | 251.427.775.868.901 | 594.486.747.111.725 | 2                   | FALSE               | 1                   | 0.1                 | \n",
       "| Appingedam          | 0                   | 251.668.842.999.999 | 594646.77           | 3                   | FALSE               | 1                   | 0.1                 | \n",
       "| Appingedam          | 0                   | 251.713.521.000.002 | 594.770.885.000.002 | 4                   | FALSE               | 1                   | 0.1                 | \n",
       "| Appingedam          | 0                   | 251.354.585.000.001 | 595.461.381.999.999 | 5                   | FALSE               | 1                   | 0.1                 | \n",
       "| Appingedam          | 0                   | 251.310.272         | 596.022.542         | 6                   | FALSE               | 1                   | 0.1                 | \n",
       "\n",
       "\n"
      ],
      "text/plain": [
       "  name       id x                   y                   order hole  piece group\n",
       "1 Appingedam 0  251.260.527.548.325 594.393.827.234.474 1     FALSE 1     0.1  \n",
       "2 Appingedam 0  251.427.775.868.901 594.486.747.111.725 2     FALSE 1     0.1  \n",
       "3 Appingedam 0  251.668.842.999.999 594646.77           3     FALSE 1     0.1  \n",
       "4 Appingedam 0  251.713.521.000.002 594.770.885.000.002 4     FALSE 1     0.1  \n",
       "5 Appingedam 0  251.354.585.000.001 595.461.381.999.999 5     FALSE 1     0.1  \n",
       "6 Appingedam 0  251.310.272         596.022.542         6     FALSE 1     0.1  "
      ]
     },
     "metadata": {},
     "output_type": "display_data"
    }
   ],
   "source": [
    "map_municipal <- read.csv2(\"nld_municipal_map.csv\", stringsAsFactors = FALSE, dec = \".\")\n",
    "head(map_municipal)"
   ]
  },
  {
   "cell_type": "markdown",
   "metadata": {},
   "source": [
    "## Assignment 2b\n",
    "\n",
    "Now you can make an empty map of the Netherlands."
   ]
  },
  {
   "cell_type": "code",
   "execution_count": 154,
   "metadata": {},
   "outputs": [
    {
     "data": {},
     "metadata": {},
     "output_type": "display_data"
    },
    {
     "data": {
      "image/png": "[encoded data removed]",
      "text/plain": [
       "plot without title"
      ]
     },
     "metadata": {},
     "output_type": "display_data"
    }
   ],
   "source": [
    "AddMapLayer(MapPlot(), map_municipal)\n"
   ]
  },
  {
   "cell_type": "markdown",
   "metadata": {},
   "source": [
    "## Assignment 2c\n",
    "\n",
    "Read in the pc4 locations (nld_pc4_locations.csv).\n",
    "\n",
    "Hint: Don't forget the X and Y should be numeric variables!"
   ]
  },
  {
   "cell_type": "code",
   "execution_count": 155,
   "metadata": {},
   "outputs": [
    {
     "name": "stdout",
     "output_type": "stream",
     "text": [
      "'data.frame':\t4066 obs. of  3 variables:\n",
      " $ PC4: int  1011 1012 1013 1014 1015 1016 1017 1018 1019 1021 ...\n",
      " $ X  : num  122244 121613 120325 119515 120740 ...\n",
      " $ Y  : num  487223 487555 489672 489422 488009 ...\n"
     ]
    }
   ],
   "source": [
    "pc4_locations <- read.csv2(\"nld_pc4_locations (1).csv\")%>%\n",
    "  mutate(X = as.numeric(as.character(X))) %>%\n",
    "   mutate(Y = as.numeric(as.character(Y)))\n",
    "\n",
    "str(pc4_locations)"
   ]
  },
  {
   "cell_type": "markdown",
   "metadata": {},
   "source": [
    "## Assignment 2d\n",
    "\n",
    "### 2di\n",
    "\n",
    "Read in the school data\n"
   ]
  },
  {
   "cell_type": "code",
   "execution_count": 156,
   "metadata": {},
   "outputs": [
    {
     "data": {
      "text/html": [
       "<table>\n",
       "<thead><tr><th scope=col>PROVINCIE</th><th scope=col>BEVOEGD.GEZAG.NUMMER</th><th scope=col>BRIN.NUMMER</th><th scope=col>VESTIGINGSNUMMER</th><th scope=col>VESTIGINGSNAAM</th><th scope=col>STRAATNAAM</th><th scope=col>HUISNUMMER.TOEVOEGING</th><th scope=col>POSTCODE</th><th scope=col>PLAATSNAAM</th><th scope=col>GEMEENTENUMMER</th><th scope=col>...</th><th scope=col>RPA.GEBIED.CODE</th><th scope=col>RPA.GEBIED.NAAM</th><th scope=col>WGR.GEBIED.CODE</th><th scope=col>WGR.GEBIED.NAAM</th><th scope=col>COROPGEBIED.CODE</th><th scope=col>COROPGEBIED.NAAM</th><th scope=col>ONDERWIJSGEBIED.CODE</th><th scope=col>ONDERWIJSGEBIED.NAAM</th><th scope=col>RMC.REGIO.CODE</th><th scope=col>RMC.REGIO.NAAM</th></tr></thead>\n",
       "<tbody>\n",
       "\t<tr><td>                                                                         </td><td>41152                                                                    </td><td>23HC                                                                     </td><td>23HC04                                                                   </td><td>RSG Lingecollege                                                         </td><td>                                                                         </td><td>                                                                         </td><td>                                                                         </td><td>                                                                         </td><td>  NA                                                                     </td><td>...                                                                      </td><td>NA                                                                       </td><td>                                                                         </td><td>NA                                                                       </td><td>                                                                         </td><td>NA                                                                       </td><td>                                                                         </td><td>NA                                                                       </td><td>                                                                         </td><td>NA                                                                       </td><td>                                                                         </td></tr>\n",
       "\t<tr><td>Drenthe                                                                  </td><td>10053                                                                    </td><td>18BR                                                                     </td><td>18BR00                                                                   </td><td>School voor Praktijkonderwijs Assen                                      </td><td>Zwartwatersweg                                                           </td><td>202                                                                      </td><td>9406 NN                                                                  </td><td>ASSEN                                                                    </td><td> 106                                                                     </td><td>...                                                                      </td><td> 3                                                                       </td><td>Centraal-Groningen                                                       </td><td> 7                                                                       </td><td>Noord- en Midden-Drenthe                                                 </td><td> 7                                                                       </td><td>Noord-Drenthe                                                            </td><td> 4                                                                       </td><td>Assen-Hoogeveen-Emmen                                                    </td><td> 7                                                                       </td><td>Noord- en Midden Drenthe                                                 </td></tr>\n",
       "\t<tr><td>Drenthe                                                                  </td><td>10053                                                                    </td><td>18BR                                                                     </td><td>18BR01                                                                   </td><td>School voor Praktijkonderwijs Assen                                      </td><td>Bosrand                                                                  </td><td>2                                                                        </td><td>9401 SL                                                                  </td><td>ASSEN                                                                    </td><td> 106                                                                     </td><td>...                                                                      </td><td> 3                                                                       </td><td>Centraal-Groningen                                                       </td><td> 7                                                                       </td><td>Noord- en Midden-Drenthe                                                 </td><td> 7                                                                       </td><td>Noord-Drenthe                                                            </td><td> 4                                                                       </td><td>Assen-Hoogeveen-Emmen                                                    </td><td> 7                                                                       </td><td>Noord- en Midden Drenthe                                                 </td></tr>\n",
       "\t<tr><td>Drenthe                                                                  </td><td>13273                                                                    </td><td>20LO                                                                     </td><td>20LO00                                                                   </td><td>Openbare Scholengemeenschap Dr Nassau College voor Vwo Havo Mavo Vbo Lwoo</td><td>Mr Groen v Prinstererln                                                  </td><td>98                                                                       </td><td>9402 KG                                                                  </td><td>ASSEN                                                                    </td><td> 106                                                                     </td><td>...                                                                      </td><td> 3                                                                       </td><td>Centraal-Groningen                                                       </td><td> 7                                                                       </td><td>Noord- en Midden-Drenthe                                                 </td><td> 7                                                                       </td><td>Noord-Drenthe                                                            </td><td> 4                                                                       </td><td>Assen-Hoogeveen-Emmen                                                    </td><td> 7                                                                       </td><td>Noord- en Midden Drenthe                                                 </td></tr>\n",
       "\t<tr><td>Drenthe                                                                  </td><td>13273                                                                    </td><td>20LO                                                                     </td><td>20LO01                                                                   </td><td>Openbare Scholengemeenschap Dr Nassau College voor Vwo Havo Mavo Vbo Lwoo</td><td>Schoolstraat                                                             </td><td>1                                                                        </td><td>9331 AV                                                                  </td><td>NORG                                                                     </td><td>1699                                                                     </td><td>...                                                                      </td><td> 3                                                                       </td><td>Centraal-Groningen                                                       </td><td> 7                                                                       </td><td>Noord- en Midden-Drenthe                                                 </td><td> 7                                                                       </td><td>Noord-Drenthe                                                            </td><td> 1                                                                       </td><td>Groningen en omstreken                                                   </td><td> 7                                                                       </td><td>Noord- en Midden Drenthe                                                 </td></tr>\n",
       "\t<tr><td>Drenthe                                                                  </td><td>13273                                                                    </td><td>20LO                                                                     </td><td>20LO02                                                                   </td><td>Openbare Scholengemeenschap Dr Nassau College voor Vwo Havo Mavo Vbo Lwoo</td><td>Esdoornlaan                                                              </td><td>2                                                                        </td><td>9411 AV                                                                  </td><td>BEILEN                                                                   </td><td>1731                                                                     </td><td>...                                                                      </td><td> 5                                                                       </td><td>Zuid- en Midden-Drenthe                                                  </td><td> 7                                                                       </td><td>Noord- en Midden-Drenthe                                                 </td><td> 7                                                                       </td><td>Noord-Drenthe                                                            </td><td> 4                                                                       </td><td>Assen-Hoogeveen-Emmen                                                    </td><td> 7                                                                       </td><td>Noord- en Midden Drenthe                                                 </td></tr>\n",
       "</tbody>\n",
       "</table>\n"
      ],
      "text/latex": [
       "\\begin{tabular}{r|lllllllllllllllllllllllllllllll}\n",
       " PROVINCIE & BEVOEGD.GEZAG.NUMMER & BRIN.NUMMER & VESTIGINGSNUMMER & VESTIGINGSNAAM & STRAATNAAM & HUISNUMMER.TOEVOEGING & POSTCODE & PLAATSNAAM & GEMEENTENUMMER & ... & RPA.GEBIED.CODE & RPA.GEBIED.NAAM & WGR.GEBIED.CODE & WGR.GEBIED.NAAM & COROPGEBIED.CODE & COROPGEBIED.NAAM & ONDERWIJSGEBIED.CODE & ONDERWIJSGEBIED.NAAM & RMC.REGIO.CODE & RMC.REGIO.NAAM\\\\\n",
       "\\hline\n",
       "\t                                                                           & 41152                                                                     & 23HC                                                                      & 23HC04                                                                    & RSG Lingecollege                                                          &                                                                           &                                                                           &                                                                           &                                                                           &   NA                                                                      & ...                                                                       & NA                                                                        &                                                                           & NA                                                                        &                                                                           & NA                                                                        &                                                                           & NA                                                                        &                                                                           & NA                                                                        &                                                                          \\\\\n",
       "\t Drenthe                                                                   & 10053                                                                     & 18BR                                                                      & 18BR00                                                                    & School voor Praktijkonderwijs Assen                                       & Zwartwatersweg                                                            & 202                                                                       & 9406 NN                                                                   & ASSEN                                                                     &  106                                                                      & ...                                                                       &  3                                                                        & Centraal-Groningen                                                        &  7                                                                        & Noord- en Midden-Drenthe                                                  &  7                                                                        & Noord-Drenthe                                                             &  4                                                                        & Assen-Hoogeveen-Emmen                                                     &  7                                                                        & Noord- en Midden Drenthe                                                 \\\\\n",
       "\t Drenthe                                                                   & 10053                                                                     & 18BR                                                                      & 18BR01                                                                    & School voor Praktijkonderwijs Assen                                       & Bosrand                                                                   & 2                                                                         & 9401 SL                                                                   & ASSEN                                                                     &  106                                                                      & ...                                                                       &  3                                                                        & Centraal-Groningen                                                        &  7                                                                        & Noord- en Midden-Drenthe                                                  &  7                                                                        & Noord-Drenthe                                                             &  4                                                                        & Assen-Hoogeveen-Emmen                                                     &  7                                                                        & Noord- en Midden Drenthe                                                 \\\\\n",
       "\t Drenthe                                                                   & 13273                                                                     & 20LO                                                                      & 20LO00                                                                    & Openbare Scholengemeenschap Dr Nassau College voor Vwo Havo Mavo Vbo Lwoo & Mr Groen v Prinstererln                                                   & 98                                                                        & 9402 KG                                                                   & ASSEN                                                                     &  106                                                                      & ...                                                                       &  3                                                                        & Centraal-Groningen                                                        &  7                                                                        & Noord- en Midden-Drenthe                                                  &  7                                                                        & Noord-Drenthe                                                             &  4                                                                        & Assen-Hoogeveen-Emmen                                                     &  7                                                                        & Noord- en Midden Drenthe                                                 \\\\\n",
       "\t Drenthe                                                                   & 13273                                                                     & 20LO                                                                      & 20LO01                                                                    & Openbare Scholengemeenschap Dr Nassau College voor Vwo Havo Mavo Vbo Lwoo & Schoolstraat                                                              & 1                                                                         & 9331 AV                                                                   & NORG                                                                      & 1699                                                                      & ...                                                                       &  3                                                                        & Centraal-Groningen                                                        &  7                                                                        & Noord- en Midden-Drenthe                                                  &  7                                                                        & Noord-Drenthe                                                             &  1                                                                        & Groningen en omstreken                                                    &  7                                                                        & Noord- en Midden Drenthe                                                 \\\\\n",
       "\t Drenthe                                                                   & 13273                                                                     & 20LO                                                                      & 20LO02                                                                    & Openbare Scholengemeenschap Dr Nassau College voor Vwo Havo Mavo Vbo Lwoo & Esdoornlaan                                                               & 2                                                                         & 9411 AV                                                                   & BEILEN                                                                    & 1731                                                                      & ...                                                                       &  5                                                                        & Zuid- en Midden-Drenthe                                                   &  7                                                                        & Noord- en Midden-Drenthe                                                  &  7                                                                        & Noord-Drenthe                                                             &  4                                                                        & Assen-Hoogeveen-Emmen                                                     &  7                                                                        & Noord- en Midden Drenthe                                                 \\\\\n",
       "\\end{tabular}\n"
      ],
      "text/markdown": [
       "\n",
       "PROVINCIE | BEVOEGD.GEZAG.NUMMER | BRIN.NUMMER | VESTIGINGSNUMMER | VESTIGINGSNAAM | STRAATNAAM | HUISNUMMER.TOEVOEGING | POSTCODE | PLAATSNAAM | GEMEENTENUMMER | ... | RPA.GEBIED.CODE | RPA.GEBIED.NAAM | WGR.GEBIED.CODE | WGR.GEBIED.NAAM | COROPGEBIED.CODE | COROPGEBIED.NAAM | ONDERWIJSGEBIED.CODE | ONDERWIJSGEBIED.NAAM | RMC.REGIO.CODE | RMC.REGIO.NAAM | \n",
       "|---|---|---|---|---|---|\n",
       "|                                                                           | 41152                                                                     | 23HC                                                                      | 23HC04                                                                    | RSG Lingecollege                                                          |                                                                           |                                                                           |                                                                           |                                                                           |   NA                                                                      | ...                                                                       | NA                                                                        |                                                                           | NA                                                                        |                                                                           | NA                                                                        |                                                                           | NA                                                                        |                                                                           | NA                                                                        |                                                                           | \n",
       "| Drenthe                                                                   | 10053                                                                     | 18BR                                                                      | 18BR00                                                                    | School voor Praktijkonderwijs Assen                                       | Zwartwatersweg                                                            | 202                                                                       | 9406 NN                                                                   | ASSEN                                                                     |  106                                                                      | ...                                                                       |  3                                                                        | Centraal-Groningen                                                        |  7                                                                        | Noord- en Midden-Drenthe                                                  |  7                                                                        | Noord-Drenthe                                                             |  4                                                                        | Assen-Hoogeveen-Emmen                                                     |  7                                                                        | Noord- en Midden Drenthe                                                  | \n",
       "| Drenthe                                                                   | 10053                                                                     | 18BR                                                                      | 18BR01                                                                    | School voor Praktijkonderwijs Assen                                       | Bosrand                                                                   | 2                                                                         | 9401 SL                                                                   | ASSEN                                                                     |  106                                                                      | ...                                                                       |  3                                                                        | Centraal-Groningen                                                        |  7                                                                        | Noord- en Midden-Drenthe                                                  |  7                                                                        | Noord-Drenthe                                                             |  4                                                                        | Assen-Hoogeveen-Emmen                                                     |  7                                                                        | Noord- en Midden Drenthe                                                  | \n",
       "| Drenthe                                                                   | 13273                                                                     | 20LO                                                                      | 20LO00                                                                    | Openbare Scholengemeenschap Dr Nassau College voor Vwo Havo Mavo Vbo Lwoo | Mr Groen v Prinstererln                                                   | 98                                                                        | 9402 KG                                                                   | ASSEN                                                                     |  106                                                                      | ...                                                                       |  3                                                                        | Centraal-Groningen                                                        |  7                                                                        | Noord- en Midden-Drenthe                                                  |  7                                                                        | Noord-Drenthe                                                             |  4                                                                        | Assen-Hoogeveen-Emmen                                                     |  7                                                                        | Noord- en Midden Drenthe                                                  | \n",
       "| Drenthe                                                                   | 13273                                                                     | 20LO                                                                      | 20LO01                                                                    | Openbare Scholengemeenschap Dr Nassau College voor Vwo Havo Mavo Vbo Lwoo | Schoolstraat                                                              | 1                                                                         | 9331 AV                                                                   | NORG                                                                      | 1699                                                                      | ...                                                                       |  3                                                                        | Centraal-Groningen                                                        |  7                                                                        | Noord- en Midden-Drenthe                                                  |  7                                                                        | Noord-Drenthe                                                             |  1                                                                        | Groningen en omstreken                                                    |  7                                                                        | Noord- en Midden Drenthe                                                  | \n",
       "| Drenthe                                                                   | 13273                                                                     | 20LO                                                                      | 20LO02                                                                    | Openbare Scholengemeenschap Dr Nassau College voor Vwo Havo Mavo Vbo Lwoo | Esdoornlaan                                                               | 2                                                                         | 9411 AV                                                                   | BEILEN                                                                    | 1731                                                                      | ...                                                                       |  5                                                                        | Zuid- en Midden-Drenthe                                                   |  7                                                                        | Noord- en Midden-Drenthe                                                  |  7                                                                        | Noord-Drenthe                                                             |  4                                                                        | Assen-Hoogeveen-Emmen                                                     |  7                                                                        | Noord- en Midden Drenthe                                                  | \n",
       "\n",
       "\n"
      ],
      "text/plain": [
       "  PROVINCIE            BEVOEGD.GEZAG.NUMMER BRIN.NUMMER VESTIGINGSNUMMER\n",
       "1                      41152                23HC        23HC04          \n",
       "2 Drenthe              10053                18BR        18BR00          \n",
       "3 Drenthe              10053                18BR        18BR01          \n",
       "4 Drenthe              13273                20LO        20LO00          \n",
       "5 Drenthe              13273                20LO        20LO01          \n",
       "6 Drenthe              13273                20LO        20LO02          \n",
       "  VESTIGINGSNAAM                                                           \n",
       "1 RSG Lingecollege                                                         \n",
       "2 School voor Praktijkonderwijs Assen                                      \n",
       "3 School voor Praktijkonderwijs Assen                                      \n",
       "4 Openbare Scholengemeenschap Dr Nassau College voor Vwo Havo Mavo Vbo Lwoo\n",
       "5 Openbare Scholengemeenschap Dr Nassau College voor Vwo Havo Mavo Vbo Lwoo\n",
       "6 Openbare Scholengemeenschap Dr Nassau College voor Vwo Havo Mavo Vbo Lwoo\n",
       "  STRAATNAAM               HUISNUMMER.TOEVOEGING POSTCODE\n",
       "1                                                        \n",
       "2 Zwartwatersweg           202                   9406 NN \n",
       "3 Bosrand                  2                     9401 SL \n",
       "4 Mr Groen v Prinstererln  98                    9402 KG \n",
       "5 Schoolstraat             1                     9331 AV \n",
       "6 Esdoornlaan              2                     9411 AV \n",
       "  PLAATSNAAM               GEMEENTENUMMER ... RPA.GEBIED.CODE\n",
       "1                            NA           ... NA             \n",
       "2 ASSEN                     106           ...  3             \n",
       "3 ASSEN                     106           ...  3             \n",
       "4 ASSEN                     106           ...  3             \n",
       "5 NORG                     1699           ...  3             \n",
       "6 BEILEN                   1731           ...  5             \n",
       "  RPA.GEBIED.NAAM          WGR.GEBIED.CODE\n",
       "1                          NA             \n",
       "2 Centraal-Groningen        7             \n",
       "3 Centraal-Groningen        7             \n",
       "4 Centraal-Groningen        7             \n",
       "5 Centraal-Groningen        7             \n",
       "6 Zuid- en Midden-Drenthe   7             \n",
       "  WGR.GEBIED.NAAM                         COROPGEBIED.CODE\n",
       "1                                         NA              \n",
       "2 Noord- en Midden-Drenthe                 7              \n",
       "3 Noord- en Midden-Drenthe                 7              \n",
       "4 Noord- en Midden-Drenthe                 7              \n",
       "5 Noord- en Midden-Drenthe                 7              \n",
       "6 Noord- en Midden-Drenthe                 7              \n",
       "  COROPGEBIED.NAAM                    ONDERWIJSGEBIED.CODE\n",
       "1                                     NA                  \n",
       "2 Noord-Drenthe                        4                  \n",
       "3 Noord-Drenthe                        4                  \n",
       "4 Noord-Drenthe                        4                  \n",
       "5 Noord-Drenthe                        1                  \n",
       "6 Noord-Drenthe                        4                  \n",
       "  ONDERWIJSGEBIED.NAAM             RMC.REGIO.CODE\n",
       "1                                  NA            \n",
       "2 Assen-Hoogeveen-Emmen             7            \n",
       "3 Assen-Hoogeveen-Emmen             7            \n",
       "4 Assen-Hoogeveen-Emmen             7            \n",
       "5 Groningen en omstreken            7            \n",
       "6 Assen-Hoogeveen-Emmen             7            \n",
       "  RMC.REGIO.NAAM                          \n",
       "1                                         \n",
       "2 Noord- en Midden Drenthe                \n",
       "3 Noord- en Midden Drenthe                \n",
       "4 Noord- en Midden Drenthe                \n",
       "5 Noord- en Midden Drenthe                \n",
       "6 Noord- en Midden Drenthe                "
      ]
     },
     "metadata": {},
     "output_type": "display_data"
    }
   ],
   "source": [
    "schools1 <- read.csv2(\"schools.csv\", stringsAsFactors = FALSE)\n",
    "head(schools1)"
   ]
  },
  {
   "cell_type": "markdown",
   "metadata": {},
   "source": [
    "### 2dii\n",
    "\n",
    "First, create a new dataframe schools1, which is equal to schools.\n",
    "\n",
    "As you see POSTCODE has a structure of (1234 AB). You should create a new variable PC4 that is equal to the first 4 numbers in POSTCODE\n",
    "\n",
    "Hint: Use the function `substr()`\n",
    "\n",
    "Then select the variables PC4 and DENOMINATIE"
   ]
  },
  {
   "cell_type": "code",
   "execution_count": 159,
   "metadata": {},
   "outputs": [
    {
     "data": {
      "text/html": [
       "<table>\n",
       "<thead><tr><th scope=col>PC4</th><th scope=col>DENOMINATIE</th></tr></thead>\n",
       "<tbody>\n",
       "\t<tr><td>  NA    </td><td>Openbaar</td></tr>\n",
       "\t<tr><td>9406    </td><td>Openbaar</td></tr>\n",
       "\t<tr><td>9401    </td><td>Openbaar</td></tr>\n",
       "\t<tr><td>9402    </td><td>Openbaar</td></tr>\n",
       "\t<tr><td>9331    </td><td>Openbaar</td></tr>\n",
       "\t<tr><td>9411    </td><td>Openbaar</td></tr>\n",
       "</tbody>\n",
       "</table>\n"
      ],
      "text/latex": [
       "\\begin{tabular}{r|ll}\n",
       " PC4 & DENOMINATIE\\\\\n",
       "\\hline\n",
       "\t   NA     & Openbaar\\\\\n",
       "\t 9406     & Openbaar\\\\\n",
       "\t 9401     & Openbaar\\\\\n",
       "\t 9402     & Openbaar\\\\\n",
       "\t 9331     & Openbaar\\\\\n",
       "\t 9411     & Openbaar\\\\\n",
       "\\end{tabular}\n"
      ],
      "text/markdown": [
       "\n",
       "PC4 | DENOMINATIE | \n",
       "|---|---|---|---|---|---|\n",
       "|   NA     | Openbaar | \n",
       "| 9406     | Openbaar | \n",
       "| 9401     | Openbaar | \n",
       "| 9402     | Openbaar | \n",
       "| 9331     | Openbaar | \n",
       "| 9411     | Openbaar | \n",
       "\n",
       "\n"
      ],
      "text/plain": [
       "  PC4  DENOMINATIE\n",
       "1   NA Openbaar   \n",
       "2 9406 Openbaar   \n",
       "3 9401 Openbaar   \n",
       "4 9402 Openbaar   \n",
       "5 9331 Openbaar   \n",
       "6 9411 Openbaar   "
      ]
     },
     "metadata": {},
     "output_type": "display_data"
    },
    {
     "name": "stdout",
     "output_type": "stream",
     "text": [
      "'data.frame':\t1603 obs. of  2 variables:\n",
      " $ PC4        : int  NA 9406 9401 9402 9331 9411 9461 9402 9402 9403 ...\n",
      " $ DENOMINATIE: chr  \"Openbaar\" \"Openbaar\" \"Openbaar\" \"Openbaar\" ...\n"
     ]
    }
   ],
   "source": [
    "schools1 <- schools1 %>%\n",
    "    mutate(PC4 = substr(POSTCODE, 1,4)) %>%\n",
    "    select(PC4, DENOMINATIE) %>%\n",
    "    mutate(PC4 = as.integer(PC4))\n",
    "\n",
    "head(schools1)\n",
    "str(schools1)"
   ]
  },
  {
   "cell_type": "markdown",
   "metadata": {},
   "source": [
    "### 2diii\n",
    "\n",
    "Create the dataframe school_loc as a join from pc4_locations and school1 that combines the columns from both data frames, but only keeps rows where the value in the pc4_locations column matches in both data frames.\n",
    "And then select the observations with DENOMINATIE is equal to \"Rooms-Katholiek\" or \"Protestants-Christelijk\""
   ]
  },
  {
   "cell_type": "code",
   "execution_count": 160,
   "metadata": {},
   "outputs": [
    {
     "data": {
      "text/html": [
       "<table>\n",
       "<thead><tr><th scope=col>PC4</th><th scope=col>X</th><th scope=col>Y</th><th scope=col>DENOMINATIE</th></tr></thead>\n",
       "<tbody>\n",
       "\t<tr><td>1065                   </td><td>1e+05                  </td><td>5e+05                  </td><td>Protestants-Christelijk</td></tr>\n",
       "\t<tr><td>1071                   </td><td>1e+05                  </td><td>5e+05                  </td><td>Rooms-Katholiek        </td></tr>\n",
       "\t<tr><td>1077                   </td><td>1e+05                  </td><td>5e+05                  </td><td>Rooms-Katholiek        </td></tr>\n",
       "\t<tr><td>1077                   </td><td>1e+05                  </td><td>5e+05                  </td><td>Protestants-Christelijk</td></tr>\n",
       "\t<tr><td>1081                   </td><td>1e+05                  </td><td>5e+05                  </td><td>Protestants-Christelijk</td></tr>\n",
       "\t<tr><td>1132                   </td><td>1e+05                  </td><td>5e+05                  </td><td>Rooms-Katholiek        </td></tr>\n",
       "</tbody>\n",
       "</table>\n"
      ],
      "text/latex": [
       "\\begin{tabular}{r|llll}\n",
       " PC4 & X & Y & DENOMINATIE\\\\\n",
       "\\hline\n",
       "\t 1065                    & 1e+05                   & 5e+05                   & Protestants-Christelijk\\\\\n",
       "\t 1071                    & 1e+05                   & 5e+05                   & Rooms-Katholiek        \\\\\n",
       "\t 1077                    & 1e+05                   & 5e+05                   & Rooms-Katholiek        \\\\\n",
       "\t 1077                    & 1e+05                   & 5e+05                   & Protestants-Christelijk\\\\\n",
       "\t 1081                    & 1e+05                   & 5e+05                   & Protestants-Christelijk\\\\\n",
       "\t 1132                    & 1e+05                   & 5e+05                   & Rooms-Katholiek        \\\\\n",
       "\\end{tabular}\n"
      ],
      "text/markdown": [
       "\n",
       "PC4 | X | Y | DENOMINATIE | \n",
       "|---|---|---|---|---|---|\n",
       "| 1065                    | 1e+05                   | 5e+05                   | Protestants-Christelijk | \n",
       "| 1071                    | 1e+05                   | 5e+05                   | Rooms-Katholiek         | \n",
       "| 1077                    | 1e+05                   | 5e+05                   | Rooms-Katholiek         | \n",
       "| 1077                    | 1e+05                   | 5e+05                   | Protestants-Christelijk | \n",
       "| 1081                    | 1e+05                   | 5e+05                   | Protestants-Christelijk | \n",
       "| 1132                    | 1e+05                   | 5e+05                   | Rooms-Katholiek         | \n",
       "\n",
       "\n"
      ],
      "text/plain": [
       "  PC4  X     Y     DENOMINATIE            \n",
       "1 1065 1e+05 5e+05 Protestants-Christelijk\n",
       "2 1071 1e+05 5e+05 Rooms-Katholiek        \n",
       "3 1077 1e+05 5e+05 Rooms-Katholiek        \n",
       "4 1077 1e+05 5e+05 Protestants-Christelijk\n",
       "5 1081 1e+05 5e+05 Protestants-Christelijk\n",
       "6 1132 1e+05 5e+05 Rooms-Katholiek        "
      ]
     },
     "metadata": {},
     "output_type": "display_data"
    }
   ],
   "source": [
    "school_loc <- inner_join(pc4_locations, schools1, by = 'PC4') %>%\n",
    "    filter(DENOMINATIE == 'Rooms-Katholiek' | DENOMINATIE == 'Protestants-Christelijk')\n",
    "head(school_loc)"
   ]
  },
  {
   "cell_type": "markdown",
   "metadata": {},
   "source": [
    "## Assignment 2e\n",
    "\n",
    "Create a map of Catholic and Protestant schools in the Netherlands\n"
   ]
  },
  {
   "cell_type": "code",
   "execution_count": 161,
   "metadata": {},
   "outputs": [
    {
     "data": {},
     "metadata": {},
     "output_type": "display_data"
    },
    {
     "data": {
      "image/png": "[encoded data removed]",
      "text/plain": [
       "plot without title"
      ]
     },
     "metadata": {},
     "output_type": "display_data"
    }
   ],
   "source": [
    "AddMapLayer(MapPlot(), map_municipal) %>%\n",
    "    AddPointsLayer(school_loc)"
   ]
  },
  {
   "cell_type": "markdown",
   "metadata": {},
   "source": [
    "End of notebook"
   ]
  }
 ],
 "metadata": {
  "anaconda-cloud": {},
  "kernelspec": {
   "display_name": "R",
   "language": "R",
   "name": "ir"
  },
  "language_info": {
   "codemirror_mode": "r",
   "file_extension": ".r",
   "mimetype": "text/x-r-source",
   "name": "R",
   "pygments_lexer": "r",
   "version": "3.4.3"
  }
 },
 "nbformat": 4,
 "nbformat_minor": 1
}
